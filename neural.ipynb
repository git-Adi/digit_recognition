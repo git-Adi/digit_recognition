{
 "cells": [
  {
   "cell_type": "code",
   "execution_count": null,
   "id": "29598bed-4711-466f-8ade-9625112f825a",
   "metadata": {},
   "outputs": [],
   "source": [
    "# Neural Network\n",
    "\n",
    "# MNIST\n",
    "# Dataloader, Transformation\n",
    "# Multilayer Neural Net, activation function\n",
    "# Loss and Optimizer\n",
    "# Training Loop (batch training)\n",
    "# Model Evaluation\n",
    "# GPU support"
   ]
  },
  {
   "cell_type": "code",
   "execution_count": 1,
   "id": "826d7ee6-734a-47a1-8d22-b8b3ad351766",
   "metadata": {},
   "outputs": [],
   "source": [
    "import torch\n",
    "import torch.nn as nn\n",
    "import torchvision\n",
    "import torchvision.transforms as transforms\n",
    "import matplotlib.pyplot as plt"
   ]
  },
  {
   "cell_type": "code",
   "execution_count": 2,
   "id": "35b6b41b-cb82-452c-b7b5-e303a214ce89",
   "metadata": {},
   "outputs": [],
   "source": [
    "device = torch.device('cuda' if torch.cuda.is_available() else 'cpu')"
   ]
  },
  {
   "cell_type": "code",
   "execution_count": 3,
   "id": "4781c12c-18d9-48c8-9c1a-357a2ad575e3",
   "metadata": {},
   "outputs": [
    {
     "name": "stdout",
     "output_type": "stream",
     "text": [
      "None\n"
     ]
    }
   ],
   "source": [
    "print(torch.cuda_version)"
   ]
  },
  {
   "cell_type": "code",
   "execution_count": 4,
   "id": "222bbb91-8742-4509-84b5-2dcebb8fa05c",
   "metadata": {},
   "outputs": [],
   "source": [
    "train_dataset = torchvision.datasets.MNIST(root='./data', train = True, transform = transforms.ToTensor(), download = True)"
   ]
  },
  {
   "cell_type": "code",
   "execution_count": 5,
   "id": "be2bb0b7-4cb7-44eb-a1ac-4eb67ba6d13e",
   "metadata": {},
   "outputs": [],
   "source": [
    "test_dataset = torchvision.datasets.MNIST(root='./data', train = False, transform = transforms.ToTensor())"
   ]
  },
  {
   "cell_type": "code",
   "execution_count": 6,
   "id": "c558dbc8-e92c-4e26-9db1-41c25ebbba6c",
   "metadata": {},
   "outputs": [
    {
     "data": {
      "text/plain": [
       "60000"
      ]
     },
     "execution_count": 6,
     "metadata": {},
     "output_type": "execute_result"
    }
   ],
   "source": [
    "num_samples = len(train_dataset)\n",
    "num_samples"
   ]
  },
  {
   "cell_type": "code",
   "execution_count": 7,
   "id": "ccbdcfa3-7c0d-4c1c-901c-17ac99aa6179",
   "metadata": {},
   "outputs": [],
   "source": [
    "input_size = 784 # 28*28\n",
    "hidden_size = 100\n",
    "num_classes = 10\n",
    "num_epoch = 2\n",
    "batch_size = 100\n",
    "learning_rate = 0.001"
   ]
  },
  {
   "cell_type": "code",
   "execution_count": 8,
   "id": "6bb8c347-c322-48d0-bfc1-811c8419f96f",
   "metadata": {},
   "outputs": [],
   "source": [
    "train_loader = torch.utils.data.DataLoader(dataset=train_dataset, batch_size = batch_size, shuffle = True)\n",
    "test_loader = torch.utils.data.DataLoader(dataset=test_dataset, batch_size = batch_size, shuffle = False)"
   ]
  },
  {
   "cell_type": "code",
   "execution_count": 9,
   "id": "9e1c7b3e-a809-4aa9-8588-4f6b6d08420e",
   "metadata": {},
   "outputs": [
    {
     "name": "stdout",
     "output_type": "stream",
     "text": [
      "torch.Size([100, 1, 28, 28]) torch.Size([100])\n"
     ]
    }
   ],
   "source": [
    "examples = iter(train_loader)\n",
    "samples, labels = next(examples)\n",
    "print(samples.shape, labels.shape)\n",
    "# torch.Size([100, 1, 28, 28]) torch.Size([100]) ---> Output 0th has number of samples, 1st has channel(here in this case is black/white), 2nd has height and 3rd has width"
   ]
  },
  {
   "cell_type": "code",
   "execution_count": 10,
   "id": "e1816bd2-ca20-4312-a7f7-7430c11deb41",
   "metadata": {},
   "outputs": [
    {
     "data": {
      "image/png": "[encoded data removed]",
      "text/plain": [
       "<Figure size 640x480 with 6 Axes>"
      ]
     },
     "metadata": {},
     "output_type": "display_data"
    }
   ],
   "source": [
    "for i in range(6):\n",
    "    plt.subplot(2,3,i+1)\n",
    "    plt.imshow(samples[i][0], cmap = 'gray')\n",
    "plt.show()"
   ]
  },
  {
   "cell_type": "code",
   "execution_count": 14,
   "id": "c6a1918f-0f3f-4288-9cbb-bdc3ee5d9aad",
   "metadata": {},
   "outputs": [
    {
     "name": "stdout",
     "output_type": "stream",
     "text": [
      "epoch 1/2, steps 100/600, loss = 0.3957\n",
      "images shape:  torch.Size([100, 784])\n",
      "epoch 1/2, steps 200/600, loss = 0.4780\n",
      "images shape:  torch.Size([100, 784])\n",
      "epoch 1/2, steps 300/600, loss = 0.2483\n",
      "images shape:  torch.Size([100, 784])\n",
      "epoch 1/2, steps 400/600, loss = 0.1769\n",
      "images shape:  torch.Size([100, 784])\n",
      "epoch 1/2, steps 500/600, loss = 0.2385\n",
      "images shape:  torch.Size([100, 784])\n",
      "epoch 1/2, steps 600/600, loss = 0.2906\n",
      "images shape:  torch.Size([100, 784])\n",
      "epoch 2/2, steps 100/600, loss = 0.1427\n",
      "images shape:  torch.Size([100, 784])\n",
      "epoch 2/2, steps 200/600, loss = 0.1251\n",
      "images shape:  torch.Size([100, 784])\n",
      "epoch 2/2, steps 300/600, loss = 0.2418\n",
      "images shape:  torch.Size([100, 784])\n",
      "epoch 2/2, steps 400/600, loss = 0.1782\n",
      "images shape:  torch.Size([100, 784])\n",
      "epoch 2/2, steps 500/600, loss = 0.3349\n",
      "images shape:  torch.Size([100, 784])\n",
      "epoch 2/2, steps 600/600, loss = 0.1430\n",
      "images shape:  torch.Size([100, 784])\n"
     ]
    }
   ],
   "source": [
    "class NeuralNet(nn.Module):\n",
    "    def __init__(self, input_size, hidden_size, num_classes):\n",
    "        super(NeuralNet, self). __init__()\n",
    "        self.l1 = nn.Linear(input_size, hidden_size)\n",
    "        self.relu = nn.ReLU()\n",
    "        self.l2 = nn.Linear(hidden_size, num_classes)\n",
    "    def forward(self, x):\n",
    "        out = self.l1(x)\n",
    "        out = self.relu(out)\n",
    "        out = self.l2(out)\n",
    "        return out\n",
    "model = NeuralNet(input_size, hidden_size, num_classes)\n",
    "\n",
    "# loss and optimizer\n",
    "criterion = nn.CrossEntropyLoss()\n",
    "optimizer = torch.optim.Adam(model.parameters(), lr = learning_rate)\n",
    "\n",
    "n_total_steps = len(train_loader)\n",
    "for epoch in range(num_epoch):\n",
    "    for i, (images, labels) in enumerate(train_loader):\n",
    "        # 100, 1, 28, 28\n",
    "        # 100, 784\n",
    "        images = images.reshape(-1, 28*28).to(device)\n",
    "        labels = labels.to(device)\n",
    "\n",
    "        outputs = model(images)\n",
    "        loss = criterion(outputs, labels)\n",
    "\n",
    "        optimizer.zero_grad()\n",
    "        loss.backward()\n",
    "        optimizer.step()\n",
    "\n",
    "        if((i+1)%100 == 0):\n",
    "            print(f'epoch {epoch+1}/{num_epoch}, steps {i+1}/{n_total_steps}, loss = {loss.item():.4f}')\n",
    "            print(\"images shape: \",images.shape)\n"
   ]
  },
  {
   "cell_type": "code",
   "execution_count": 12,
   "id": "bc234866-7987-486d-bb01-5b9bbdf8f0c9",
   "metadata": {},
   "outputs": [
    {
     "name": "stdout",
     "output_type": "stream",
     "text": [
      "accuracy = 95.2\n"
     ]
    }
   ],
   "source": [
    "# test\n",
    "with torch.no_grad():\n",
    "    n_correct = 0\n",
    "    n_samples = 0\n",
    "    for images, labels in test_loader:\n",
    "        images = images.reshape(-1, 28*28).to(device)\n",
    "        labels = labels.to(device)\n",
    "        outputs = model(images)\n",
    "\n",
    "        #value, index\n",
    "        \n",
    "        _, predictions = torch.max(outputs, 1)\n",
    "        n_samples += labels.shape[0]\n",
    "        n_correct += (predictions == labels).sum().item()\n",
    "    acc = 100* n_correct / n_samples\n",
    "    print(f'accuracy = {acc}')"
   ]
  },
  {
   "cell_type": "code",
   "execution_count": null,
   "id": "bac1014c-1e6e-4ea3-9008-6608160cc626",
   "metadata": {},
   "outputs": [],
   "source": []
  }
 ],
 "metadata": {
  "kernelspec": {
   "display_name": "Python 3 (ipykernel)",
   "language": "python",
   "name": "python3"
  },
  "language_info": {
   "codemirror_mode": {
    "name": "ipython",
    "version": 3
   },
   "file_extension": ".py",
   "mimetype": "text/x-python",
   "name": "python",
   "nbconvert_exporter": "python",
   "pygments_lexer": "ipython3",
   "version": "3.11.5"
  }
 },
 "nbformat": 4,
 "nbformat_minor": 5
}
